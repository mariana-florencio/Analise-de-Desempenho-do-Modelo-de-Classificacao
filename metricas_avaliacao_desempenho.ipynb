{
  "nbformat": 4,
  "nbformat_minor": 0,
  "metadata": {
    "colab": {
      "provenance": [],
      "authorship_tag": "ABX9TyN+R/KHBJSa8c/R9m0dGCUj"
    },
    "kernelspec": {
      "name": "python3",
      "display_name": "Python 3"
    },
    "language_info": {
      "name": "python"
    }
  },
  "cells": [
    {
      "cell_type": "code",
      "execution_count": null,
      "metadata": {
        "colab": {
          "base_uri": "https://localhost:8080/"
        },
        "id": "nirdKZW_dNl4",
        "outputId": "b7f99182-64dc-4029-bee5-6bf1d627f005"
      },
      "outputs": [
        {
          "output_type": "stream",
          "name": "stdout",
          "text": [
            "Matriz de Confusão:\n",
            "[[3 0 0]\n",
            " [0 4 0]\n",
            " [1 0 2]]\n",
            "\n",
            "Métricas por Classe:\n",
            "Classe 0:\n",
            "  Sensibilidade: 1.00\n",
            "  Especificidade: 0.86\n",
            "  Precisão: 0.75\n",
            "  F1-Score: 0.86\n",
            "Classe 1:\n",
            "  Sensibilidade: 1.00\n",
            "  Especificidade: 1.00\n",
            "  Precisão: 1.00\n",
            "  F1-Score: 1.00\n",
            "Classe 2:\n",
            "  Sensibilidade: 0.67\n",
            "  Especificidade: 1.00\n",
            "  Precisão: 1.00\n",
            "  F1-Score: 0.80\n",
            "\n",
            "Acurácia Geral: 0.93\n"
          ]
        }
      ],
      "source": [
        "import numpy as np\n",
        "from sklearn.metrics import confusion_matrix\n",
        "\n",
        "y_true = [0, 0, 1, 1, 2, 2, 2, 0, 1, 1]\n",
        "y_pred = [0, 0, 1, 1, 0, 2, 2, 0, 1, 1]\n",
        "\n",
        "\n",
        "cm = confusion_matrix(y_true, y_pred)\n",
        "print('Matriz de Confusão:')\n",
        "print(cm)\n",
        "\n",
        "\n",
        "VP = np.diag(cm)\n",
        "FP = np.sum(cm, axis=0) - VP\n",
        "FN = np.sum(cm, axis=1) - VP\n",
        "VN = np.sum(cm) - (FP + FN + VP)\n",
        "\n",
        "sensibilidade = VP / (VP + FN)\n",
        "especificidade = VN / (FP + VN)\n",
        "acuracia = (VP + VN) / (VP+FN+VN+FP)\n",
        "precisao = VP / (VP + FP)\n",
        "f1_score = 2 * (precisao * sensibilidade) / (precisao + sensibilidade)\n",
        "\n",
        "\n",
        "print('\\nMétricas por Classe:')\n",
        "for i in range(len(VP)):\n",
        "  print(f'Classe {i}:')\n",
        "  print(f'  Sensibilidade: {sensibilidade[i]:.2f}')\n",
        "  print(f'  Especificidade: {especificidade[i]:.2f}')\n",
        "  print(f'  Precisão: {precisao[i]:.2f}')\n",
        "  print(f'  F1-Score: {f1_score[i]:.2f}')\n",
        "\n",
        "print(f'\\nAcurácia Geral: {np.mean(acuracia):.2f}')\n"
      ]
    }
  ]
}